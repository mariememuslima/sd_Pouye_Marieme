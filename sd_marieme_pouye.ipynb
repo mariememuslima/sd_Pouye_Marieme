{
 "cells": [
  {
   "cell_type": "markdown",
   "metadata": {},
   "source": [
    "Récuperation de fichiers"
   ]
  },
  {
   "cell_type": "code",
   "execution_count": 42,
   "metadata": {},
   "outputs": [],
   "source": [
    "from csv import *\n",
    "import csv\n",
    "from json import *\n",
    "import xml.etree.ElementTree as et\n",
    "import yaml\n",
    "import xmltodict\n",
    "import dict2xml"
   ]
  },
  {
   "cell_type": "code",
   "execution_count": 2,
   "metadata": {},
   "outputs": [
    {
     "name": "stdout",
     "output_type": "stream",
     "text": [
      "mon_premier_json.json\n"
     ]
    }
   ],
   "source": [
    "fichier = input(\"Saisissez le nom du fichier(avec le chemin et l'extension)\")\n",
    "fichiers = \"/home/marieme/Téléchargements/Systemes de Fichiers/Json/mon_premier_json.json\"\n",
    "def veriFichier(fichiers):\n",
    "    exten = fichiers.split('.')\n",
    "    if exten[-1] in ['json', 'Json', 'JSON','yaml', 'YAML', 'Ymal', 'YML','yml', 'Yml', 'csv', 'Csv', 'CSV','Xml', 'xml','XML']:\n",
    "       return fichiers\n",
    "    else:\n",
    "        return False\n",
    "def recupExtension(fichiers):\n",
    "    ext = fichiers.split('.')\n",
    "    return ext[-1]\n",
    "def recupFichier(fichiers):\n",
    "    fichiers = fichiers.split('/')\n",
    "    return fichiers[-1]\n",
    "print(recupFichier(fichiers))"
   ]
  },
  {
   "cell_type": "code",
   "execution_count": 5,
   "metadata": {},
   "outputs": [
    {
     "name": "stdout",
     "output_type": "stream",
     "text": [
      "None\n"
     ]
    }
   ],
   "source": [
    "def Menu(verif):\n",
    "    verif = verif.lower()\n",
    "    if verif in ['json']:\n",
    "        print(\"Vous avez saisi un fichier\",verif,\"\\nTapez 1 pour convertir en format CSV\\nTapez 2 pour convertir en format XML\\nTapez 3 pour convertir en format YAML\")\n",
    "    elif verif in ['yaml', 'yml']:\n",
    "        print(\"Vous avez saisi un fichier\",verif,\"\\nTapez 1 pour convertir en format CSV\\nTapez 2 pour convertir en format XML\\nTapez 3 pour convertir en format JSON\")\n",
    "    elif verif in ['xml']:\n",
    "        print(\"Vous avez saisi un fichier\",verif,\"\\nTapez 1 pour convertir en format CSV\\nTapez 2 pour convertir en format XML\\nTapez 3 pour convertir en format YAML\")\n",
    "    elif verif in ['csv']:\n",
    "        print(\"Vous avez saisi un fichier\",verif,\"\\nTapez 1 pour convertir en format CSV\\nTapez 2 pour convertir en format XML\\nTapez 3 pour convertir en format CSV\")\n",
    "verif = input(\"saisir un entier\")\n",
    "print(Menu(verif))"
   ]
  },
  {
   "cell_type": "code",
   "execution_count": 6,
   "metadata": {},
   "outputs": [
    {
     "name": "stdout",
     "output_type": "stream",
     "text": [
      "mon_premier_json.json\n"
     ]
    }
   ],
   "source": [
    "fichiers = \"/home/marieme/Téléchargements/Systemes de Fichiers/Json/mon_premier_json.json\"\n",
    "def recupExtension(fichiers):\n",
    "    fichiers = fichiers.split('/')\n",
    "    return fichiers[-1]\n",
    "print(recupExtension(fichiers))"
   ]
  },
  {
   "cell_type": "code",
   "execution_count": 26,
   "metadata": {},
   "outputs": [],
   "source": [
    "#recup fichier\n",
    "fichiers = \"/home/marieme/Téléchargements/Systemes de Fichiers/Json/mon_premier_json.json\"\n",
    "def recupFichier(fichiers):\n",
    "    fichiers = fichiers.split('/')\n",
    "    fichiers = fichiers[-1]\n",
    "    return fichiers"
   ]
  },
  {
   "cell_type": "code",
   "execution_count": 38,
   "metadata": {},
   "outputs": [
    {
     "name": "stdout",
     "output_type": "stream",
     "text": [
      "[{'Books': [{'ISBN': 'ISBN-0-13-713526-2', 'Price': 85, 'Edition': 3, 'Title': 'A First Course in Database Systems', 'Authors': [{'First_Name': 'Jeffrey', 'Last_Name': 'Ullman'}, {'First_Name': 'Jennifer', 'Last_Name': 'Widom'}]}, {'ISBN': 'ISBN-0-13-815504-6', 'Price': 100, 'Remark': \"Buy this book bundled with 'A First Course' - a great deal!\", 'Title': 'Database Systems:The Complete Book', 'Authors': [{'First_Name': 'Hector', 'Last_Name': 'Garcia-Molina'}, {'First_Name': 'Jeffrey', 'Last_Name': 'Ullman'}, {'First_Name': 'Jennifer', 'Last_Name': 'Widom'}]}], 'Magazines': [{'Title': 'National Geographic', 'Month': 'January', 'Year': 2009}, {'Title': 'Newsweek', 'Month': 'February', 'Year': 2009}]}]\n",
      "<class 'list'>\n"
     ]
    }
   ],
   "source": [
    "\n",
    "fichiers = \"/home/marieme/Téléchargements/Systemes de Fichiers/Json/Bookstore.json\"\n",
    "extension = 'json'\n",
    "fichiers = fichiers.split('/')\n",
    "fichiers = fichiers[-1]\n",
    "#print(fichiers)\n",
    "#print(type(fichiers))\n",
    "def transformDict(fichiers):\n",
    "    count = 0\n",
    "    dictfile=[]\n",
    "    extension = fichiers.split('.')\n",
    "    extension = extension[-1]\n",
    "    if extension == 'yml':\n",
    "        extension = 'yaml'\n",
    "    if extension == 'json':\n",
    "        with open(fichiers, 'r') as my_file:\n",
    "            data = load(my_file)\n",
    "            dictfile.append(data)\n",
    "    elif extension == 'csv':\n",
    "        with open(fichiers, 'r') as my_file:\n",
    "            data = csv.reader(my_file)#(), delimiter = ';')\n",
    "            for row in data:\n",
    "                if count == 0:\n",
    "                    dictionfinale = row\n",
    "                else:\n",
    "                    verifier = dict(zip(dictionfinale, row))\n",
    "                    dictfile.append(verifier)\n",
    "                count += 1\n",
    "                #dictfile.append(row)\n",
    "    elif extension == 'yaml':\n",
    "        with open(fichiers, 'r') as my_file:\n",
    "            dictfile = yaml.safe_load(my_file)\n",
    "    elif extension == 'xml':\n",
    "        k = open(fichiers, 'r')\n",
    "        dictfile = xmltodict.parse(k.read())\n",
    "    return dictfile\n",
    "\n",
    "print(transformDict(fichiers))\n",
    "dictfile = (transformDict(fichiers))\n",
    "print(type(dictfile))\n",
    "#print(type(dictfile))\n",
    "#print(dictfile)\n"
   ]
  },
  {
   "cell_type": "markdown",
   "metadata": {},
   "source": [
    "transform list to "
   ]
  },
  {
   "cell_type": "code",
   "execution_count": 45,
   "metadata": {},
   "outputs": [
    {
     "data": {
      "text/plain": [
       "('Votre fichier', 'xml', 'a été créé')"
      ]
     },
     "execution_count": 45,
     "metadata": {},
     "output_type": "execute_result"
    }
   ],
   "source": [
    "choix = 'xml'\n",
    "def transformToFile(choix,dictfile):\n",
    "    liste = []\n",
    "    if choix == 'json':\n",
    "        with open('new.json', 'w') as y:\n",
    "            dump(dictfile, y)\n",
    "        return (\"Votre fichier\",choix,\"a été créé\")\n",
    "    if choix == 'csv':\n",
    "        for i in range(len(dictfile)):\n",
    "            elm=dictfile[i]\n",
    "            keys=list(elm.keys())\n",
    "        with open(\"mynewfile.csv\",\"w\") as csv_out:\n",
    "            writer=DictWriter(csv_out,fieldnames=keys)\n",
    "            writer.writeheader()\n",
    "            for data in dictfile:\n",
    "                writer.writerow(data)\n",
    "        return (\"Votre fichier\",choix,\"a été créé\")\n",
    "    if choix == 'yaml':\n",
    "        with open('new.yaml', 'a') as f:  \n",
    "            yaml.dump(dictfile, f)\n",
    "        return (\"Votre fichier\",choix,\"a été créé\")\n",
    "    if choix == 'xml':\n",
    "        with open('new.xml', 'w') as y:\n",
    "            contenu = dict2xml.dict2xml(dictfile)\n",
    "            y.write(contenu)\n",
    "        return (\"Votre fichier\",choix,\"a été créé\")\n",
    "transformToFile(choix,dictfile)\n",
    "\n",
    "    "
   ]
  },
  {
   "cell_type": "code",
   "execution_count": 25,
   "metadata": {},
   "outputs": [
    {
     "name": "stdout",
     "output_type": "stream",
     "text": [
      "['identifiant', 'noms', 'sexe', 'age']\n",
      "dict_values(['Z180', 'Morgane', 'F', '17'])\n",
      "{'identifiant': 'Z180', 'noms': 'Morgane', 'sexe': 'F', 'age': '17'}\n",
      "['identifiant', 'noms', 'sexe', 'age']\n",
      "dict_values(['X452', 'Jean', 'M', '17'])\n",
      "{'identifiant': 'X452', 'noms': 'Jean', 'sexe': 'M', 'age': '17'}\n",
      "['identifiant', 'noms', 'sexe', 'age']\n",
      "dict_values(['Z133', 'Marie', 'F', '17'])\n",
      "{'identifiant': 'Z133', 'noms': 'Marie', 'sexe': 'F', 'age': '17'}\n",
      "['identifiant', 'noms', 'sexe', 'age']\n",
      "dict_values(['X013', 'Pierre', 'M', '18'])\n",
      "{'identifiant': 'X013', 'noms': 'Pierre', 'sexe': 'M', 'age': '18'}\n",
      "['identifiant', 'noms', 'sexe', 'age']\n",
      "dict_values(['Z412', 'Lucie', 'F', '16'])\n",
      "{'identifiant': 'Z412', 'noms': 'Lucie', 'sexe': 'F', 'age': '16'}\n",
      "['identifiant', 'noms', 'sexe', 'age']\n",
      "dict_values(['Z011', 'Julie', 'NA', '17'])\n",
      "{'identifiant': 'Z011', 'noms': 'Julie', 'sexe': 'NA', 'age': '17'}\n"
     ]
    }
   ],
   "source": [
    "dictfile\n",
    "for i in range (len(dictfile)):\n",
    "    element = dictfile[i]\n",
    "    keys = list(element.keys())\n",
    "    val = element.values()\n",
    "    print(keys)\n",
    "    print(val)\n",
    "    print(element)"
   ]
  },
  {
   "cell_type": "code",
   "execution_count": null,
   "metadata": {},
   "outputs": [],
   "source": []
  }
 ],
 "metadata": {
  "interpreter": {
   "hash": "916dbcbb3f70747c44a77c7bcd40155683ae19c65e1c03b4aa3499c5328201f1"
  },
  "kernelspec": {
   "display_name": "Python 3.8.10 64-bit",
   "language": "python",
   "name": "python3"
  },
  "language_info": {
   "codemirror_mode": {
    "name": "ipython",
    "version": 3
   },
   "file_extension": ".py",
   "mimetype": "text/x-python",
   "name": "python",
   "nbconvert_exporter": "python",
   "pygments_lexer": "ipython3",
   "version": "3.8.10"
  },
  "orig_nbformat": 4
 },
 "nbformat": 4,
 "nbformat_minor": 2
}
