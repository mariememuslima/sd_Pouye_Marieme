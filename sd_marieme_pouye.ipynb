{
 "cells": [
  {
   "cell_type": "markdown",
   "metadata": {},
   "source": [
    "Récuperation de fichiers"
   ]
  },
  {
   "cell_type": "code",
   "execution_count": 8,
   "metadata": {},
   "outputs": [],
   "source": [
    "from csv import *\n",
    "import json\n",
    "import xml.etree.ElementTree as et\n",
    "import yaml\n",
    "import xmltodict"
   ]
  },
  {
   "cell_type": "code",
   "execution_count": 2,
   "metadata": {},
   "outputs": [
    {
     "name": "stdout",
     "output_type": "stream",
     "text": [
      "mon_premier_json.json\n"
     ]
    }
   ],
   "source": [
    "fichier = input(\"Saisissez le nom du fichier(avec le chemin et l'extension)\")\n",
    "fichiers = \"/home/marieme/Téléchargements/Systemes de Fichiers/Json/mon_premier_json.json\"\n",
    "def veriFichier(fichiers):\n",
    "    exten = fichiers.split('.')\n",
    "    if exten[-1] in ['json', 'Json', 'JSON','yaml', 'YAML', 'Ymal', 'YML','yml', 'Yml', 'csv', 'Csv', 'CSV','Xml', 'xml','XML']:\n",
    "       return fichiers\n",
    "    else:\n",
    "        return False\n",
    "def recupExtension(fichiers):\n",
    "    ext = fichiers.split('.')\n",
    "    return ext[-1]\n",
    "def recupFichier(fichiers):\n",
    "    fichiers = fichiers.split('/')\n",
    "    return fichiers[-1]\n",
    "print(recupFichier(fichiers))"
   ]
  },
  {
   "cell_type": "code",
   "execution_count": 5,
   "metadata": {},
   "outputs": [
    {
     "name": "stdout",
     "output_type": "stream",
     "text": [
      "None\n"
     ]
    }
   ],
   "source": [
    "def Menu(verif):\n",
    "    verif = verif.lower()\n",
    "    if verif in ['json']:\n",
    "        print(\"Vous avez saisi un fichier\",verif,\"\\nTapez 1 pour convertir en format CSV\\nTapez 2 pour convertir en format XML\\nTapez 3 pour convertir en format YAML\")\n",
    "    elif verif in ['yaml', 'yml']:\n",
    "        print(\"Vous avez saisi un fichier\",verif,\"\\nTapez 1 pour convertir en format CSV\\nTapez 2 pour convertir en format XML\\nTapez 3 pour convertir en format JSON\")\n",
    "    elif verif in ['xml']:\n",
    "        print(\"Vous avez saisi un fichier\",verif,\"\\nTapez 1 pour convertir en format CSV\\nTapez 2 pour convertir en format XML\\nTapez 3 pour convertir en format YAML\")\n",
    "    elif verif in ['csv']:\n",
    "        print(\"Vous avez saisi un fichier\",verif,\"\\nTapez 1 pour convertir en format CSV\\nTapez 2 pour convertir en format XML\\nTapez 3 pour convertir en format CSV\")\n",
    "verif = input(\"saisir un entier\")\n",
    "print(Menu(verif))"
   ]
  },
  {
   "cell_type": "code",
   "execution_count": 6,
   "metadata": {},
   "outputs": [
    {
     "name": "stdout",
     "output_type": "stream",
     "text": [
      "mon_premier_json.json\n"
     ]
    }
   ],
   "source": [
    "fichiers = \"/home/marieme/Téléchargements/Systemes de Fichiers/Json/mon_premier_json.json\"\n",
    "def recupExtension(fichiers):\n",
    "    fichiers = fichiers.split('/')\n",
    "    return fichiers[-1]\n",
    "print(recupExtension(fichiers))"
   ]
  },
  {
   "cell_type": "code",
   "execution_count": 26,
   "metadata": {},
   "outputs": [],
   "source": [
    "#recup fichier\n",
    "fichiers = \"/home/marieme/Téléchargements/Systemes de Fichiers/Json/mon_premier_json.json\"\n",
    "def recupFichier(fichiers):\n",
    "    fichiers = fichiers.split('/')\n",
    "    fichiers = fichiers[-1]\n",
    "    return fichiers"
   ]
  },
  {
   "cell_type": "code",
   "execution_count": 9,
   "metadata": {},
   "outputs": [
    {
     "name": "stdout",
     "output_type": "stream",
     "text": [
      "[{'identifiant': 'Z180', 'trimestre': '1', 'matieres': 'Math', 'notes': '12'}, {'identifiant': 'Z180', 'trimestre': '1', 'matieres': 'SVT', 'notes': '17'}, {'identifiant': 'Z180', 'trimestre': '1', 'matieres': 'Physique', 'notes': '19'}, {'identifiant': 'X452', 'trimestre': '1', 'matieres': 'Math', 'notes': '14'}, {'identifiant': 'X452', 'trimestre': '1', 'matieres': 'SVT', 'notes': '10'}, {'identifiant': 'X452', 'trimestre': '1', 'matieres': 'Physique', 'notes': '16'}, {'identifiant': 'Z133', 'trimestre': '1', 'matieres': 'Math', 'notes': '12'}, {'identifiant': 'Z133', 'trimestre': '1', 'matieres': 'SVT', 'notes': '9'}, {'identifiant': 'Z133', 'trimestre': '1', 'matieres': 'Physique', 'notes': '8'}, {'identifiant': 'X013', 'trimestre': '1', 'matieres': 'Math', 'notes': '7'}, {'identifiant': 'X013', 'trimestre': '1', 'matieres': 'SVT', 'notes': '12'}, {'identifiant': 'X013', 'trimestre': '1', 'matieres': 'Physique', 'notes': '8'}, {'identifiant': 'Z412', 'trimestre': '1', 'matieres': 'Math', 'notes': '16'}, {'identifiant': 'Z412', 'trimestre': '1', 'matieres': 'SVT', 'notes': '20'}, {'identifiant': 'Z412', 'trimestre': '1', 'matieres': 'Physique', 'notes': '17'}, {'identifiant': 'Z011', 'trimestre': '1', 'matieres': 'Math', 'notes': '5'}, {'identifiant': 'Z011', 'trimestre': '1', 'matieres': 'SVT', 'notes': '19'}, {'identifiant': 'Z011', 'trimestre': '1', 'matieres': 'Physique', 'notes': '16'}, {'identifiant': 'Z180', 'trimestre': '2', 'matieres': 'Math', 'notes': '12'}, {'identifiant': 'Z180', 'trimestre': '2', 'matieres': 'SVT', 'notes': '17'}, {'identifiant': 'Z180', 'trimestre': '2', 'matieres': 'Physique', 'notes': '19'}, {'identifiant': 'X452', 'trimestre': '2', 'matieres': 'Math', 'notes': ''}, {'identifiant': 'X452', 'trimestre': '2', 'matieres': 'SVT', 'notes': '10'}, {'identifiant': 'X452', 'trimestre': '2', 'matieres': 'Physique', 'notes': '16'}, {'identifiant': 'Z133', 'trimestre': '2', 'matieres': 'Math', 'notes': '12'}, {'identifiant': 'Z133', 'trimestre': '2', 'matieres': 'SVT', 'notes': '9'}, {'identifiant': 'Z133', 'trimestre': '2', 'matieres': 'Physique', 'notes': '8'}, {'identifiant': 'X013', 'trimestre': '2', 'matieres': 'Math', 'notes': '7'}, {'identifiant': 'X013', 'trimestre': '2', 'matieres': 'SVT', 'notes': '12'}, {'identifiant': 'X013', 'trimestre': '2', 'matieres': 'Physique', 'notes': '8'}, {'identifiant': 'Z412', 'trimestre': '2', 'matieres': 'Math', 'notes': '16'}, {'identifiant': 'Z412', 'trimestre': '2', 'matieres': 'SVT', 'notes': '20'}, {'identifiant': 'Z412', 'trimestre': '2', 'matieres': 'Physique', 'notes': '17'}, {'identifiant': 'Z011', 'trimestre': '2', 'matieres': 'Math', 'notes': '5'}, {'identifiant': 'Z011', 'trimestre': '2', 'matieres': 'SVT', 'notes': '19'}, {'identifiant': 'Z011', 'trimestre': '2', 'matieres': 'Physique', 'notes': '16'}, {'identifiant': 'Z180', 'trimestre': '3', 'matieres': 'Math', 'notes': '12'}, {'identifiant': 'Z180', 'trimestre': '3', 'matieres': 'SVT', 'notes': '17'}, {'identifiant': 'Z180', 'trimestre': '3', 'matieres': 'Physique', 'notes': '19'}, {'identifiant': 'X452', 'trimestre': '3', 'matieres': 'Math', 'notes': '14'}, {'identifiant': 'X452', 'trimestre': '3', 'matieres': 'SVT', 'notes': '10'}, {'identifiant': 'X452', 'trimestre': '3', 'matieres': 'Physique', 'notes': ''}, {'identifiant': 'Z133', 'trimestre': '3', 'matieres': 'Math', 'notes': '12'}, {'identifiant': 'Z133', 'trimestre': '3', 'matieres': 'SVT', 'notes': '9'}, {'identifiant': 'Z133', 'trimestre': '3', 'matieres': 'Physique', 'notes': '8'}, {'identifiant': 'X013', 'trimestre': '3', 'matieres': 'Math', 'notes': '7'}, {'identifiant': 'X013', 'trimestre': '3', 'matieres': 'SVT', 'notes': '12'}, {'identifiant': 'X013', 'trimestre': '3', 'matieres': 'Physique', 'notes': '8'}, {'identifiant': 'Z412', 'trimestre': '3', 'matieres': 'Math', 'notes': '16'}, {'identifiant': 'Z412', 'trimestre': '3', 'matieres': 'SVT', 'notes': '20'}, {'identifiant': 'Z412', 'trimestre': '3', 'matieres': 'Physique', 'notes': ''}, {'identifiant': 'Z011', 'trimestre': '3', 'matieres': 'Math', 'notes': '5'}, {'identifiant': 'Z011', 'trimestre': '3', 'matieres': 'SVT', 'notes': '19'}, {'identifiant': 'Z011', 'trimestre': '3', 'matieres': 'Physique', 'notes': '16'}]\n"
     ]
    }
   ],
   "source": [
    "\n",
    "fichiers = \"/home/marieme/Téléchargements/Systemes de Fichiers/Json/notes.csv\"\n",
    "extension = 'json'\n",
    "fichiers = fichiers.split('/')\n",
    "fichiers = fichiers[-1]\n",
    "#print(fichiers)\n",
    "#print(type(fichiers))\n",
    "def transformDict(fichiers):\n",
    "    dictfile=[]\n",
    "    extension = fichiers.split('.')\n",
    "    extension = extension[-1]\n",
    "    if extension == 'yml':\n",
    "        extension = 'yaml'\n",
    "    if extension == 'json':\n",
    "        with open(fichiers, 'r') as my_file:\n",
    "            data = json.load(my_file)\n",
    "            dictfile = json.dumps(data)\n",
    "    elif extension == 'csv':\n",
    "        with open(fichiers, 'r') as my_file:\n",
    "            data = DictReader(my_file, delimiter = ';')\n",
    "            for row in data:\n",
    "                dictfile.append(row)\n",
    "    elif extension == 'yaml':\n",
    "        with open(fichiers, 'r') as my_file:\n",
    "            dictfile = yaml.safe_load(my_file)\n",
    "    elif extension == 'xml':\n",
    "        k = open(fichiers, 'r')\n",
    "        dictfile = xmltodict.parse(k.read())\n",
    "    return dictfile\n",
    "\n",
    "print(transformDict(fichiers))\n",
    "dictfile = (transformDict(fichiers))\n",
    "#print(type(dictfile))\n",
    "#print(dictfile)\n"
   ]
  },
  {
   "cell_type": "markdown",
   "metadata": {},
   "source": [
    "transform list to "
   ]
  },
  {
   "cell_type": "code",
   "execution_count": 10,
   "metadata": {},
   "outputs": [
    {
     "ename": "AttributeError",
     "evalue": "'DictReader' object has no attribute 'writeheader'",
     "output_type": "error",
     "traceback": [
      "\u001b[0;31m---------------------------------------------------------------------------\u001b[0m",
      "\u001b[0;31mAttributeError\u001b[0m                            Traceback (most recent call last)",
      "\u001b[1;32m/home/marieme/Documents/TP/Syteme de fichier/sd_Pouye_Marieme/sd_marieme_pouye.ipynb Cell 9'\u001b[0m in \u001b[0;36m<module>\u001b[0;34m\u001b[0m\n\u001b[1;32m     <a href='vscode-notebook-cell:/home/marieme/Documents/TP/Syteme%20de%20fichier/sd_Pouye_Marieme/sd_marieme_pouye.ipynb#ch0000008?line=24'>25</a>\u001b[0m             json\u001b[39m.\u001b[39mdump(dictfile, y)\n\u001b[1;32m     <a href='vscode-notebook-cell:/home/marieme/Documents/TP/Syteme%20de%20fichier/sd_Pouye_Marieme/sd_marieme_pouye.ipynb#ch0000008?line=25'>26</a>\u001b[0m         \u001b[39mreturn\u001b[39;00m (\u001b[39m\"\u001b[39m\u001b[39mVotre fichier\u001b[39m\u001b[39m\"\u001b[39m,choix,\u001b[39m\"\u001b[39m\u001b[39ma été créé\u001b[39m\u001b[39m\"\u001b[39m)\n\u001b[0;32m---> <a href='vscode-notebook-cell:/home/marieme/Documents/TP/Syteme%20de%20fichier/sd_Pouye_Marieme/sd_marieme_pouye.ipynb#ch0000008?line=26'>27</a>\u001b[0m transformToFile(choix,dictfile)\n",
      "\u001b[1;32m/home/marieme/Documents/TP/Syteme de fichier/sd_Pouye_Marieme/sd_marieme_pouye.ipynb Cell 9'\u001b[0m in \u001b[0;36mtransformToFile\u001b[0;34m(choix, dictfile)\u001b[0m\n\u001b[1;32m     <a href='vscode-notebook-cell:/home/marieme/Documents/TP/Syteme%20de%20fichier/sd_Pouye_Marieme/sd_marieme_pouye.ipynb#ch0000008?line=10'>11</a>\u001b[0m \u001b[39mwith\u001b[39;00m \u001b[39mopen\u001b[39m(\u001b[39m'\u001b[39m\u001b[39mnew.csv\u001b[39m\u001b[39m'\u001b[39m, \u001b[39m'\u001b[39m\u001b[39mw\u001b[39m\u001b[39m'\u001b[39m) \u001b[39mas\u001b[39;00m f:  \n\u001b[1;32m     <a href='vscode-notebook-cell:/home/marieme/Documents/TP/Syteme%20de%20fichier/sd_Pouye_Marieme/sd_marieme_pouye.ipynb#ch0000008?line=11'>12</a>\u001b[0m     write\u001b[39m=\u001b[39mDictReader(f,fieldnames\u001b[39m=\u001b[39mliste)\n\u001b[0;32m---> <a href='vscode-notebook-cell:/home/marieme/Documents/TP/Syteme%20de%20fichier/sd_Pouye_Marieme/sd_marieme_pouye.ipynb#ch0000008?line=12'>13</a>\u001b[0m     write\u001b[39m.\u001b[39;49mwriteheader()\n\u001b[1;32m     <a href='vscode-notebook-cell:/home/marieme/Documents/TP/Syteme%20de%20fichier/sd_Pouye_Marieme/sd_marieme_pouye.ipynb#ch0000008?line=13'>14</a>\u001b[0m     write\u001b[39m.\u001b[39mwriterows(dictfile)\n\u001b[1;32m     <a href='vscode-notebook-cell:/home/marieme/Documents/TP/Syteme%20de%20fichier/sd_Pouye_Marieme/sd_marieme_pouye.ipynb#ch0000008?line=14'>15</a>\u001b[0m     \u001b[39m#writer = csv.writer(f)\u001b[39;00m\n\u001b[1;32m     <a href='vscode-notebook-cell:/home/marieme/Documents/TP/Syteme%20de%20fichier/sd_Pouye_Marieme/sd_marieme_pouye.ipynb#ch0000008?line=15'>16</a>\u001b[0m     \u001b[39m#for k, v in dictfile.items():\u001b[39;00m\n\u001b[1;32m     <a href='vscode-notebook-cell:/home/marieme/Documents/TP/Syteme%20de%20fichier/sd_Pouye_Marieme/sd_marieme_pouye.ipynb#ch0000008?line=16'>17</a>\u001b[0m     \u001b[39m#writer.DictWriter(dictfile)\u001b[39;00m\n",
      "\u001b[0;31mAttributeError\u001b[0m: 'DictReader' object has no attribute 'writeheader'"
     ]
    }
   ],
   "source": [
    "choix = 'csv'\n",
    "def transformToFile(choix,dictfile):\n",
    "    liste = []\n",
    "    if choix == 'json':\n",
    "        with open('new.json', 'w') as y:\n",
    "            json.dump(dictfile, y)\n",
    "        return (\"Votre fichier\",choix,\"a été créé\")\n",
    "    if choix == 'csv':\n",
    "        for row in dictfile:\n",
    "            liste.append(row)\n",
    "        with open('new.csv', 'w') as f:  \n",
    "            write=DictReader(f,fieldnames=liste)\n",
    "            write.writeheader()\n",
    "            write.writerows(dictfile)\n",
    "            #writer = csv.writer(f)\n",
    "            #for k, v in dictfile.items():\n",
    "            #writer.DictWriter(dictfile)\n",
    "        return (\"Votre fichier\",choix,\"a été créé\")\n",
    "    if choix == 'yaml':\n",
    "        with open('new.yaml', 'a') as f:  \n",
    "            yaml.dump(dictfile, f)\n",
    "        return (\"Votre fichier\",choix,\"a été créé\")\n",
    "    if choix == 'xml':\n",
    "        with open('new.xml', 'w') as y:\n",
    "            json.dump(dictfile, y)\n",
    "        return (\"Votre fichier\",choix,\"a été créé\")\n",
    "transformToFile(choix,dictfile)\n",
    "\n",
    "    "
   ]
  },
  {
   "cell_type": "code",
   "execution_count": null,
   "metadata": {},
   "outputs": [],
   "source": []
  }
 ],
 "metadata": {
  "interpreter": {
   "hash": "916dbcbb3f70747c44a77c7bcd40155683ae19c65e1c03b4aa3499c5328201f1"
  },
  "kernelspec": {
   "display_name": "Python 3.8.10 64-bit",
   "language": "python",
   "name": "python3"
  },
  "language_info": {
   "codemirror_mode": {
    "name": "ipython",
    "version": 3
   },
   "file_extension": ".py",
   "mimetype": "text/x-python",
   "name": "python",
   "nbconvert_exporter": "python",
   "pygments_lexer": "ipython3",
   "version": "3.8.10"
  },
  "orig_nbformat": 4
 },
 "nbformat": 4,
 "nbformat_minor": 2
}
