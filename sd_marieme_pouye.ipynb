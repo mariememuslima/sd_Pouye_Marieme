{
 "cells": [
  {
   "cell_type": "markdown",
   "metadata": {},
   "source": [
    "Récuperation de fichiers"
   ]
  },
  {
   "cell_type": "code",
   "execution_count": 51,
   "metadata": {},
   "outputs": [],
   "source": [
    "import csv\n",
    "import json\n",
    "import xml.etree.ElementTree as et\n",
    "import yaml"
   ]
  },
  {
   "cell_type": "code",
   "execution_count": 23,
   "metadata": {},
   "outputs": [
    {
     "name": "stdout",
     "output_type": "stream",
     "text": [
      "Le fichier est valide\n",
      "True\n"
     ]
    }
   ],
   "source": [
    "fichier = input(\"Saisissez le nom du fichier(avec le chemin et l'extension)\")\n",
    "#fichiers = \"/home/marieme/Téléchargements/Systemes de Fichiers/Json/mon_premier_json.json\"\n",
    "def veriFichier(fichiers):\n",
    "    fichiers = fichiers.split('.')\n",
    "    if fichiers[-1] in ['json', 'Json', 'JSON','yaml', 'YAML', 'Ymal', 'YML','yml', 'Yml', 'csv', 'Csv', 'CSV','Xml', 'xml','XML']:\n",
    "       return fichiers\n",
    "    else:\n",
    "        return False\n",
    "print(pr)"
   ]
  },
  {
   "cell_type": "code",
   "execution_count": 59,
   "metadata": {},
   "outputs": [
    {
     "name": "stdout",
     "output_type": "stream",
     "text": [
      "Vous avez saisi un fichier xml \n",
      "Tapez 1 pour convertir en format CSV\n",
      "Tapez 2 pour convertir en format XML\n",
      "Tapez 3 pour convertir en format YAML\n",
      "None\n"
     ]
    }
   ],
   "source": [
    "def Menu(verif):\n",
    "    verif = verif.lower()\n",
    "    if verif in ['json']:\n",
    "        print(\"Vous avez saisi un fichier\",verif,\"\\nTapez 1 pour convertir en format CSV\\nTapez 2 pour convertir en format XML\\nTapez 3 pour convertir en format YAML\")\n",
    "    elif verif in ['yaml', 'yml']:\n",
    "        print(\"Vous avez saisi un fichier\",verif,\"\\nTapez 1 pour convertir en format CSV\\nTapez 2 pour convertir en format XML\\nTapez 3 pour convertir en format JSON\")\n",
    "    elif verif in ['xml']:\n",
    "        print(\"Vous avez saisi un fichier\",verif,\"\\nTapez 1 pour convertir en format CSV\\nTapez 2 pour convertir en format XML\\nTapez 3 pour convertir en format YAML\")\n",
    "    elif verif in ['csv']:\n",
    "        print(\"Vous avez saisi un fichier\",verif,\"\\nTapez 1 pour convertir en format CSV\\nTapez 2 pour convertir en format XML\\nTapez 3 pour convertir en format CSV\")\n",
    "verif = input(\"saisir un entier\")\n",
    "print(Menu(verif))"
   ]
  },
  {
   "cell_type": "code",
   "execution_count": 60,
   "metadata": {},
   "outputs": [
    {
     "name": "stdout",
     "output_type": "stream",
     "text": [
      "mon_premier_json.json\n"
     ]
    }
   ],
   "source": [
    "fichiers = \"/home/marieme/Téléchargements/Systemes de Fichiers/Json/mon_premier_json.json\"\n",
    "def recupExtension(fichiers):\n",
    "    fichiers = fichiers.split('/')\n",
    "    return fichiers[-1]\n",
    "print(recupExtension(fichiers))"
   ]
  },
  {
   "cell_type": "code",
   "execution_count": 27,
   "metadata": {},
   "outputs": [
    {
     "name": "stdout",
     "output_type": "stream",
     "text": [
      "mon_premier_json.json\n"
     ]
    }
   ],
   "source": [
    "#recup fichier\n",
    "fichiers = \"/home/marieme/Téléchargements/Systemes de Fichiers/Json/mon_premier_json.json\"\n",
    "def recupFichier(fichiers):\n",
    "    fichiers = fichiers.split('/')\n",
    "    fichiers = fichiers[-1]\n",
    "    return fichiers"
   ]
  },
  {
   "cell_type": "code",
   "execution_count": 57,
   "metadata": {},
   "outputs": [
    {
     "name": "stdout",
     "output_type": "stream",
     "text": [
      "<Element '{http://www.w3.org/2001/XMLSchema}schema' at 0x7f94c9c02a40>\n",
      "['{http://www.w3.org/2001/XMLSchema}annotation', '{http://www.w3.org/2001/XMLSchema}element', '{http://www.w3.org/2001/XMLSchema}complexType']\n"
     ]
    }
   ],
   "source": [
    "fichiers = \"/home/marieme/Téléchargements/Systemes de Fichiers/Json/mon_premier_json.json\"\n",
    "extension = 'xml'\n",
    "option = 1\n",
    "licsv = []\n",
    "if extension == 'json':\n",
    "    with open('mon_premier_json.json', 'r') as my_file:\n",
    "        data = json.load(my_file)\n",
    "    \"\"\"if option == 1:\n",
    "        \n",
    "    elif option == 2:\n",
    "\n",
    "    elif option == 3:\"\"\"\n",
    "elif extension == 'csv':\n",
    "    with open('eleves.csv', 'r') as my_file:\n",
    "        data = csv.reader(my_file)\n",
    "        for row in data:\n",
    "            licsv.append(row)\n",
    "    \"\"\"if option == 1:\n",
    "        \n",
    "    elif option == 2:\n",
    "\n",
    "    elif option == 3:\"\"\"\n",
    "#elif extension in ['yaml','yml']:\n",
    "#    with open('eleves.csv', 'r') as my_file:\n",
    "#        data = csv.reader(my_file)\n",
    "    \"\"\"if option == 1:\n",
    "        \n",
    "    elif option == 2:\n",
    "\n",
    "    elif option == 3:\"\"\"\n",
    "elif extension == 'xml':\n",
    "    data = et.parse('firstxml.xml')\n",
    "    data = data.getroot()\n",
    "    for a in data:\n",
    "        licsv.append(a.tag)\n",
    "    \"\"\"if option == 1:\n",
    "        \n",
    "    elif option == 2:\n",
    "\n",
    "    elif option == 3:\"\"\"\n",
    "print(data)\n",
    "print(licsv)\n"
   ]
  },
  {
   "cell_type": "code",
   "execution_count": null,
   "metadata": {},
   "outputs": [],
   "source": []
  }
 ],
 "metadata": {
  "interpreter": {
   "hash": "916dbcbb3f70747c44a77c7bcd40155683ae19c65e1c03b4aa3499c5328201f1"
  },
  "kernelspec": {
   "display_name": "Python 3.8.10 64-bit",
   "language": "python",
   "name": "python3"
  },
  "language_info": {
   "codemirror_mode": {
    "name": "ipython",
    "version": 3
   },
   "file_extension": ".py",
   "mimetype": "text/x-python",
   "name": "python",
   "nbconvert_exporter": "python",
   "pygments_lexer": "ipython3",
   "version": "3.8.10"
  },
  "orig_nbformat": 4
 },
 "nbformat": 4,
 "nbformat_minor": 2
}
